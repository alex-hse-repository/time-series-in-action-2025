{
 "cells": [
  {
   "cell_type": "markdown",
   "id": "00fd02d1",
   "metadata": {},
   "source": [
    "# PART(2): Знакомство с библиотекой `etna`\n",
    "Мы с вами познакомились с библиотекой на семинаре, давайте попробуем самостоятельно решить несколько задач.\n",
    "В качестве данных будет небольшой срез данных одного российского маркетплейса.\n",
    "\n",
    "## 1. Загрузка данных и eda\n",
    "\n",
    "Загрузите данные, посмотрите сколько сегментов и есть ли пропуски в данных."
   ]
  },
  {
   "cell_type": "code",
   "execution_count": null,
   "id": "9ab6ffc4",
   "metadata": {},
   "outputs": [],
   "source": [
    "import pandas as pd\n",
    "from etna.datasets import TSDataset\n",
    "\n",
    "df = pd.read_csv(\"https://gist.githubusercontent.com/martins0n/500ea2bc660d71015b41edaa540ae54f/raw/db1927825ee5c85c8852bc9eaa21c102effac1c7/products.csv\")\n",
    "\n",
    "# <Your code here>"
   ]
  },
  {
   "cell_type": "markdown",
   "id": "0d1a0e2f",
   "metadata": {},
   "source": [
    "Отрисуйте временные ряды:"
   ]
  },
  {
   "cell_type": "code",
   "execution_count": null,
   "id": "690307a4-d3e2-46eb-83c4-7c0872334704",
   "metadata": {},
   "outputs": [],
   "source": [
    "# <Your code here>"
   ]
  },
  {
   "cell_type": "markdown",
   "id": "146ef08b",
   "metadata": {},
   "source": [
    "Постройте seasonal plot для нескольких рядов\n",
    "\n",
    "**Какие выводы можно сделать из картинок?**\n",
    "1. Действительно ли есть годовая сезонность?\n",
    "2. Различается ли паттерн сезонности между рядами?\n",
    "3. Меняется ли паттерн с годами?"
   ]
  },
  {
   "cell_type": "code",
   "execution_count": null,
   "id": "812ad5c7",
   "metadata": {},
   "outputs": [],
   "source": [
    "from etna.analysis import seasonal_plot\n",
    "\n",
    "# <Your code here>"
   ]
  },
  {
   "cell_type": "markdown",
   "id": "13ca7c0a",
   "metadata": {},
   "source": [
    "Попробуйте выделить праздничные периоды на картинке\n",
    "\n",
    "**Есть ли влияние праздников на продажи товаров?**"
   ]
  },
  {
   "cell_type": "code",
   "execution_count": null,
   "id": "6f1a45a6",
   "metadata": {},
   "outputs": [],
   "source": [
    "from etna.analysis import plot_holidays\n",
    "\n",
    "# <Your code here>"
   ]
  },
  {
   "cell_type": "markdown",
   "id": "f4693c30",
   "metadata": {},
   "source": [
    "Как правило, продажи имеют свойсто увеличиваться и падать со временем. Изучите тренды в данных"
   ]
  },
  {
   "cell_type": "code",
   "execution_count": null,
   "id": "f4a9e096",
   "metadata": {},
   "outputs": [],
   "source": [
    "from etna.transforms import LinearTrendTransform\n",
    "from etna.analysis import plot_trend\n",
    "\n",
    "# <Your code here>"
   ]
  },
  {
   "cell_type": "markdown",
   "id": "b53b9850",
   "metadata": {},
   "source": [
    "Здесь секция для ваших идей.  \n",
    "Посмотрите на данные, попробуйте найти интересные паттерны.  \n",
    "В качестве референса можете использвовать [ноутбук](https://docs.etna.ai/stable/tutorials/103-EDA.html#EDA)"
   ]
  },
  {
   "cell_type": "code",
   "execution_count": 1,
   "id": "ec57d548",
   "metadata": {},
   "outputs": [],
   "source": [
    "# <Your code here>"
   ]
  },
  {
   "cell_type": "markdown",
   "id": "9a993849",
   "metadata": {},
   "source": [
    "## 2. Прогнозирование\n",
    "\n",
    "#### Построение Prophet\n",
    "\n",
    "Постройте прогнозы с помощью Prophet и `etna.Pipeline`, под капотом `etna.Pipeline` обучит `ProphetModel` для каждого сегмента в отдельности. После этого оцените качество по SMAPE на кросс-валидации. В качестве горизонта предсказания возьмите 60 дней - этого же горизонта будем придерживаться и в дальнейшем.\n",
    "\n",
    "Отрисуйте получившийся прогноз, SMAPE и MAE"
   ]
  },
  {
   "cell_type": "code",
   "execution_count": null,
   "id": "caa9ba08",
   "metadata": {},
   "outputs": [],
   "source": [
    "from etna.pipeline import Pipeline\n",
    "from etna.models import ProphetModel\n",
    "from etna.metrics import SMAPE, MAE\n",
    "from etna.analysis import plot_backtest\n",
    "\n",
    "HORIZON = 60\n",
    "\n",
    "# <Your code here>"
   ]
  },
  {
   "cell_type": "markdown",
   "id": "9c038d7a",
   "metadata": {},
   "source": [
    "#### Построение модели ARIMA\n",
    "\n",
    "Попробуйте построить модель `ARIMA` на данных. Подберите оптимальные параметры модели, и оцените качество прогноза на кросс-валидации.  \n",
    "\n",
    "Для этого могут быть полезны `ACF` и `PACF` диаграммы, которые вы возможно уже строили в первом задании."
   ]
  },
  {
   "cell_type": "code",
   "execution_count": null,
   "id": "eb00c451",
   "metadata": {},
   "outputs": [],
   "source": [
    "from etna.analysis import acf_plot, stl_plot\n",
    "from etna.models import SARIMAXModel\n",
    "\n",
    "# <Your code here>"
   ]
  },
  {
   "cell_type": "markdown",
   "id": "dc04630a",
   "metadata": {},
   "source": [
    "А теперь используйте `AutoARIMA`. Какие параметры он выбрал? Какое качество прогноза он показал?"
   ]
  },
  {
   "cell_type": "code",
   "execution_count": null,
   "id": "5df2d176",
   "metadata": {},
   "outputs": [],
   "source": [
    "from etna.models import AutoARIMAModel\n",
    "\n",
    "# <Your code here>"
   ]
  },
  {
   "cell_type": "markdown",
   "id": "f55aa8a3",
   "metadata": {},
   "source": [
    "#### Построение признаков и бустинг\n",
    "\n",
    "Теперь поработаем с моделями, которые требуют построения признаков на примере `CatBoost`.  \n",
    "Построим для них признаки, и попробуем при помощи них добиться улучшения качества. \n",
    "\n",
    "Что нужно сделать: \n",
    "1) постройте графики автокорреляции (если еще не построили) и при помощи них обоснуйте выбор лаговых признаков\n",
    "2) нужно ли что-то делать с трендами и сезонностью и как?\n",
    "3) добавьте свои признаки, которые считаете полезными для прогноза - возможно нужно что-то сделать с временной меткой\n",
    "\n",
    "\n",
    "Добавьте комментарии, почему вы выбрали именно эти признаки, и как они могут помочь в прогнозировании."
   ]
  },
  {
   "cell_type": "code",
   "execution_count": null,
   "id": "86c5d52a",
   "metadata": {},
   "outputs": [],
   "source": [
    "from etna.analysis import acf_plot, stl_plot\n",
    "from etna.models import CatBoostMultiSegmentModel, CatBoostPerSegmentModel\n",
    "from etna.transforms import STLTransform, LagTransform, SegmentEncoderTransform\n",
    "\n",
    "# <Your code here>"
   ]
  },
  {
   "cell_type": "markdown",
   "id": "899ff04c",
   "metadata": {},
   "source": [
    "Обучите на получившихся признаках модели. Для `CatBoost` рассмотрите 2 версии мультисегментную и на каждый ряд в отдельности."
   ]
  },
  {
   "cell_type": "code",
   "execution_count": null,
   "id": "0dcfcdf6",
   "metadata": {},
   "outputs": [],
   "source": [
    "# <Your code here>"
   ]
  },
  {
   "cell_type": "markdown",
   "id": "9812792b",
   "metadata": {},
   "source": [
    "#### Стратегии прогнозирования\n",
    "\n",
    "Мы на лекции рассмотрели несколько стратегий прогнозирования, давайте попробуем их использовать на практике."
   ]
  },
  {
   "cell_type": "code",
   "execution_count": null,
   "id": "b5b45f57",
   "metadata": {},
   "outputs": [],
   "source": [
    "from etna.pipeline import AutoRegressivePipeline, Pipeline, assemble_pipelines\n",
    "from etna.ensembles import DirectEnsemble\n",
    "\n",
    "\n",
    "# <Your code here>"
   ]
  },
  {
   "cell_type": "markdown",
   "id": "c58265fe",
   "metadata": {},
   "source": [
    "####  Итоговое сравнение\n",
    "Сравните все модели между собой по метрикам качества, которые вы использовали. Какая модель оказалась лучше? Почему так могло получиться?"
   ]
  },
  {
   "cell_type": "code",
   "execution_count": null,
   "id": "6b06aea2",
   "metadata": {},
   "outputs": [],
   "source": [
    "# <Your code here>"
   ]
  }
 ],
 "metadata": {
  "kernelspec": {
   "display_name": "time-series-in-action-2025",
   "language": "python",
   "name": "python3"
  },
  "language_info": {
   "codemirror_mode": {
    "name": "ipython",
    "version": 3
   },
   "file_extension": ".py",
   "mimetype": "text/x-python",
   "name": "python",
   "nbconvert_exporter": "python",
   "pygments_lexer": "ipython3",
   "version": "3.12.1"
  }
 },
 "nbformat": 4,
 "nbformat_minor": 5
}
