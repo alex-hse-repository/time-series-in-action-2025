{
 "cells": [
  {
   "cell_type": "markdown",
   "id": "bb09ca0b-a119-4567-a744-6d9e154553ec",
   "metadata": {},
   "source": [
    "# Part(3): Поиск аномалий\n"
   ]
  },
  {
   "cell_type": "markdown",
   "id": "a2111518-e22b-4dbb-abed-3f35e90d5b72",
   "metadata": {
    "jp-MarkdownHeadingCollapsed": true
   },
   "source": [
    "## 0. Utils"
   ]
  },
  {
   "cell_type": "code",
   "execution_count": null,
   "id": "1f130d6e-3ed3-4203-ae4d-0b037ad315c8",
   "metadata": {},
   "outputs": [],
   "source": [
    "import pandas as pd\n",
    "import numpy as np\n",
    "\n",
    "import matplotlib.pyplot as plt\n",
    "\n",
    "plt.rcParams[\"figure.figsize\"] = (23, 9)\n",
    "\n",
    "import warnings\n",
    "\n",
    "warnings.filterwarnings(\"ignore\")\n",
    "\n",
    "# For adtk\n",
    "import matplotlib.style as mplstyle\n",
    "\n",
    "if \"seaborn-v0_8-whitegrid\" in mplstyle.library:\n",
    "    mplstyle.library[\"seaborn-whitegrid\"] = mplstyle.library[\"seaborn-v0_8-whitegrid\"]\n",
    "\n",
    "np.random.seed(42)"
   ]
  },
  {
   "cell_type": "code",
   "execution_count": null,
   "id": "de7e68b1-07aa-47e6-943e-6297dc4c8719",
   "metadata": {},
   "outputs": [],
   "source": [
    "from etna.datasets import TSDataset\n",
    "from etna.analysis import plot_anomalies as plot_anomalies_etna\n",
    "from adtk.visualization import plot\n",
    "from adtk.metrics import recall, precision, f1_score"
   ]
  },
  {
   "cell_type": "code",
   "execution_count": null,
   "id": "c0e1958e-9516-48d2-8853-cfba85532ba0",
   "metadata": {},
   "outputs": [],
   "source": [
    "def convert_to_etna(df):\n",
    "    df_etna = df_etna = pd.melt(\n",
    "        pd.DataFrame(df).reset_index(),\n",
    "        id_vars=\"timestamp\",\n",
    "        value_vars=[f\"segment_{i}\" for i in range(1, 8)],\n",
    "        var_name=\"segment\",\n",
    "        value_name=\"target\",\n",
    "    )\n",
    "    return df_etna\n",
    "\n",
    "\n",
    "def anomaly_dict_to_mask(df, anomaly_dict):\n",
    "    df_mask = df.copy()\n",
    "    df_mask[:] = 0\n",
    "    for segment, indexes in anomaly_dict.items():\n",
    "        df_mask.loc[indexes, segment] = 1\n",
    "    return df_mask\n",
    "\n",
    "\n",
    "def eval_etna(df, anomaly_dict):\n",
    "    anomalies_mask = anomaly_dict_to_mask(df, anomaly_dict)\n",
    "\n",
    "    plot_anomalies_etna(ts, anomaly_dict)\n",
    "    metrics, metrics_agg = eval_metrics(df_anomaly, anomalies_mask, metrics_list=[precision, recall, f1_score])\n",
    "    print(metrics_agg)\n",
    "    return metrics, metrics_agg, anomalies_mask\n",
    "\n",
    "\n",
    "def eval_metrics(y_true, y_pred, metrics_list):\n",
    "    metrics = {}\n",
    "    metrics_agg = {}\n",
    "    for metric in metrics_list:\n",
    "        name = metric.__name__\n",
    "        metrics[name] = metric(y_true, y_pred)\n",
    "        metrics_agg[name] = pd.Series(metric(y_true, y_pred)).mean()\n",
    "\n",
    "    return metrics, metrics_agg\n",
    "\n",
    "\n",
    "def plot_anomalies(series, detector):\n",
    "    try:\n",
    "        anomalies = detector.fit_detect(series)\n",
    "    except:\n",
    "        anomalies = detector.detect(series)\n",
    "\n",
    "    metrics, metrics_agg = eval_metrics(df_anomaly, anomalies, metrics_list=[precision, recall, f1_score])\n",
    "    plot(\n",
    "        series,\n",
    "        anomaly=anomalies,\n",
    "        ts_linewidth=1,\n",
    "        ts_markersize=3,\n",
    "        anomaly_markersize=5,\n",
    "        anomaly_color=\"red\",\n",
    "        anomaly_tag=\"marker\",\n",
    "    )\n",
    "    print(metrics_agg)\n",
    "    return metrics, metrics_agg, anomalies"
   ]
  },
  {
   "cell_type": "markdown",
   "id": "92d0bd63-8b55-4708-acf9-6464ebfab60c",
   "metadata": {
    "jp-MarkdownHeadingCollapsed": true
   },
   "source": [
    "## 1. Даныне\n",
    "\n",
    "Будем использовать данные с семинара"
   ]
  },
  {
   "cell_type": "code",
   "execution_count": null,
   "id": "8943ce92-b87b-4d46-b65c-ba27f57862f2",
   "metadata": {},
   "outputs": [],
   "source": [
    "df = pd.read_csv(\"data/data.csv\")\n",
    "df[\"timestamp\"] = pd.to_datetime(df[\"timestamp\"])\n",
    "df = df.set_index(\"timestamp\")\n",
    "\n",
    "df_anomaly = pd.read_csv(\"data/anomaly.csv\")\n",
    "df_anomaly[\"timestamp\"] = pd.to_datetime(df_anomaly[\"timestamp\"])\n",
    "df_anomaly = df_anomaly.set_index(\"timestamp\")\n",
    "\n",
    "df_etna = convert_to_etna(df)\n",
    "ts = TSDataset(df=df_etna, freq=\"D\")\n",
    "ts.plot()"
   ]
  },
  {
   "cell_type": "markdown",
   "id": "a846958b-67c2-4605-b72d-4d3c844498c0",
   "metadata": {},
   "source": [
    "## 2. Дефолтный вариант(с семинара)"
   ]
  },
  {
   "cell_type": "code",
   "execution_count": null,
   "id": "bc2288a5-e145-4167-84bc-850142af7bcf",
   "metadata": {},
   "outputs": [],
   "source": [
    "from etna.analysis import get_anomalies_isolation_forest\n",
    "\n",
    "anomaly_dict = get_anomalies_isolation_forest(ts)\n",
    "metrics_if, metrics_agg_if, anomalies_if = eval_etna(df, anomaly_dict)"
   ]
  },
  {
   "cell_type": "markdown",
   "id": "60751817-dbb0-456b-acad-765f25dc01fe",
   "metadata": {},
   "source": [
    "## 3. Убираем тренд\n",
    "\n",
    "Попробуем убрать тренд из рядов"
   ]
  },
  {
   "cell_type": "code",
   "execution_count": null,
   "id": "27bb74db-b94e-429a-9e76-540b34bd9743",
   "metadata": {},
   "outputs": [],
   "source": [
    "from etna.transforms import LinearTrendTransform"
   ]
  },
  {
   "cell_type": "code",
   "execution_count": null,
   "id": "cfeed0a7-9026-4dfa-98ed-9acf554a4f53",
   "metadata": {},
   "outputs": [],
   "source": [
    "trend_transform = ...  # <your code here>\n",
    "ts.fit_transform([trend_transform])"
   ]
  },
  {
   "cell_type": "code",
   "execution_count": null,
   "id": "4f8fb62b-7e44-433a-8eb5-5c76d704e66f",
   "metadata": {},
   "outputs": [],
   "source": [
    "anomaly_dict = get_anomalies_isolation_forest(ts, features_to_use=[\"target\"])\n",
    "ts.inverse_transform([trend_transform])\n",
    "\n",
    "metrics_if_det, metrics_agg_if_det, anomalies_if_det = eval_etna(df, anomaly_dict)"
   ]
  },
  {
   "cell_type": "markdown",
   "id": "0463a06e-658d-4a4e-be0a-631878a7021b",
   "metadata": {},
   "source": [
    "## 4. Добавляем признаки\n",
    "\n",
    "На первом семинаре мы научились доставать компоненты из модели HotlWinters -- попробуем использовать их в качестве признаков\n",
    "\n",
    "**Замечание:** в идеале нужно разбить датасет на несоклько по периоду сезонности чтобы оценить сезонную компоненту более корректно, однако сейчас мы на это забьем"
   ]
  },
  {
   "cell_type": "code",
   "execution_count": null,
   "id": "6a42b5c1-0b28-4526-859d-7137ac32d618",
   "metadata": {},
   "outputs": [],
   "source": [
    "from etna.models import HoltWintersModel\n",
    "from etna.transforms import ModelDecomposeTransform"
   ]
  },
  {
   "cell_type": "code",
   "execution_count": null,
   "id": "88fc0f0f-16f1-4ddc-bdd8-2bf67602f073",
   "metadata": {},
   "outputs": [],
   "source": [
    "model_decompose = ...  # <your code here>\n",
    "ts.fit_transform([model_decompose])"
   ]
  },
  {
   "cell_type": "code",
   "execution_count": null,
   "id": "a658b942-8a5a-43a2-bfa2-0e316483d9ad",
   "metadata": {},
   "outputs": [],
   "source": [
    "ts.head()"
   ]
  },
  {
   "cell_type": "code",
   "execution_count": null,
   "id": "dec80461-e6d8-4145-b52a-72983c738d24",
   "metadata": {},
   "outputs": [],
   "source": [
    "features = ...  # <your code here>\n",
    "anomaly_dict = ...  # <your code here>\n",
    "metrics_if_det, metrics_agg_if_det, anomalies_if_det = eval_etna(df, anomaly_dict)"
   ]
  }
 ],
 "metadata": {
  "kernelspec": {
   "display_name": "time-series-in-action",
   "language": "python",
   "name": "time-series-in-action"
  },
  "language_info": {
   "codemirror_mode": {
    "name": "ipython",
    "version": 3
   },
   "file_extension": ".py",
   "mimetype": "text/x-python",
   "name": "python",
   "nbconvert_exporter": "python",
   "pygments_lexer": "ipython3",
   "version": "3.11.11"
  }
 },
 "nbformat": 4,
 "nbformat_minor": 5
}
