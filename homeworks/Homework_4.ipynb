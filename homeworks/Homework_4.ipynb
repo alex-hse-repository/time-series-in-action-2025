{
 "cells": [
  {
   "cell_type": "markdown",
   "id": "1b108fba-1d69-4f37-b9f8-09c2d94d15b3",
   "metadata": {},
   "source": [
    "# Part(4): Обучение представлений"
   ]
  },
  {
   "cell_type": "markdown",
   "id": "21259241-78af-491a-9954-76d92ce428f9",
   "metadata": {},
   "source": [
    "## 1. Данные\n",
    "\n",
    "Будем работать с данными из домашнего соревнования"
   ]
  },
  {
   "cell_type": "code",
   "execution_count": null,
   "id": "179164de-6f59-481c-8605-062b398c3469",
   "metadata": {},
   "outputs": [],
   "source": [
    "import pandas as pd\n",
    "from etna.datasets import TSDataset\n",
    "\n",
    "import warnings\n",
    "\n",
    "warnings.filterwarnings(\"ignore\")\n",
    "\n",
    "HORIZON = 365"
   ]
  },
  {
   "cell_type": "code",
   "execution_count": null,
   "id": "5b9ed2e0-f0d9-461d-b9bf-b4f95927c73a",
   "metadata": {},
   "outputs": [],
   "source": [
    "df = pd.read_parquet(\"data/train.parquet\", columns=[\"segment\", \"timestamp\", \"target\"])\n",
    "ts = TSDataset(df=df, freq=\"D\")\n",
    "ts.plot(n_segments=4)"
   ]
  },
  {
   "cell_type": "markdown",
   "id": "76b11021-03cf-4a4b-b17a-ce7d9315456e",
   "metadata": {},
   "source": [
    "## 2. Эксперимент(1): Смоделируем сезонность\n",
    "\n",
    "Попробуем смоделировать сезонность с помощью признаков из временной метки с помощью глобальной модели"
   ]
  },
  {
   "cell_type": "code",
   "execution_count": null,
   "id": "09fc0378-8673-40a9-8a7b-75e9cedf7717",
   "metadata": {},
   "outputs": [],
   "source": [
    "from etna.pipeline import Pipeline\n",
    "from etna.transforms import DateFlagsTransform\n",
    "from etna.models import CatBoostMultiSegmentModel\n",
    "from etna.metrics import SMAPE"
   ]
  },
  {
   "cell_type": "markdown",
   "id": "601b366f-5fb3-4f35-bda2-1a9e595cc032",
   "metadata": {},
   "source": [
    "### Создаем пайплайн\n",
    "1. Модель CatBoostMultiSegmentModel\n",
    "2. Признаки из временной метки для моделирования недельной/годовой сезонности"
   ]
  },
  {
   "cell_type": "code",
   "execution_count": null,
   "id": "5276df13-88aa-4815-9c38-90e961ba5347",
   "metadata": {},
   "outputs": [],
   "source": [
    "pipeline = Pipeline(\n",
    "    ...  # <your code here>\n",
    ")"
   ]
  },
  {
   "cell_type": "markdown",
   "id": "81e0d6aa-5056-42bd-9fe4-db82aec86840",
   "metadata": {},
   "source": [
    "### Запускаем кросс-валидацию\n",
    "\n",
    "Запустим кросс-валидацию на 1 фолде и оценим метрику соревнования SMAPE"
   ]
  },
  {
   "cell_type": "code",
   "execution_count": null,
   "id": "d89c6df1-f6de-4f96-b097-44c022a0a163",
   "metadata": {},
   "outputs": [],
   "source": [
    "# <your code here>"
   ]
  },
  {
   "cell_type": "markdown",
   "id": "eb23af43-904c-4aba-94e2-7a5c0aa29f6d",
   "metadata": {},
   "source": [
    "### Нарисуем картинку\n",
    "\n",
    "Качество получилось так себе, если нарисовать картинку то проблема станет очевидна"
   ]
  },
  {
   "cell_type": "code",
   "execution_count": null,
   "id": "8426dbd0-5d1b-4ee4-93dc-efc143eee927",
   "metadata": {},
   "outputs": [],
   "source": [
    "from etna.analysis import plot_backtest"
   ]
  },
  {
   "cell_type": "code",
   "execution_count": null,
   "id": "bd4760ae-91b3-402a-845a-99c593cba7f9",
   "metadata": {},
   "outputs": [],
   "source": [
    "# <your code here>"
   ]
  },
  {
   "cell_type": "markdown",
   "id": "d42255d7-5def-4aa5-89f7-231fc2472721",
   "metadata": {},
   "source": [
    "## 3. Реализация TSFreshSegmentEncoder\n",
    "\n",
    "Попробуем исправить проблему, добавив в модель признаковое представление каждого сегмента в датасете.\n",
    "\n",
    "В качестве признакового представления будем использовать признаки из tsfresh\n",
    "\n",
    "Реализуем кастомный трансформ, который будет выделять нужные признаки([туториал](https://github.com/etna-team/etna/blob/master/examples/301-custom_transform_and_model.ipynb))"
   ]
  },
  {
   "cell_type": "code",
   "execution_count": null,
   "id": "678dd8e9-3dda-4667-acf1-e74a2009911f",
   "metadata": {},
   "outputs": [],
   "source": [
    "from etna.transforms.base import IrreversibleTransform\n",
    "\n",
    "from tsfresh import extract_features\n",
    "from tsfresh.feature_extraction import MinimalFCParameters, EfficientFCParameters\n",
    "\n",
    "from typing import Optional, List"
   ]
  },
  {
   "cell_type": "code",
   "execution_count": null,
   "id": "b81f7876-abbf-44c5-ba43-3d9db9de785b",
   "metadata": {},
   "outputs": [],
   "source": [
    "class TSFreshSegmentEncoder(IrreversibleTransform):\n",
    "    def __init__(self, in_column: str, default_fc_parameters: Optional[dict] = None, n_jobs: int = 1, **tsfresh_kwargs):\n",
    "        \"\"\"\n",
    "        Create instance of TSFreshFeatrureExtractionTransform.\n",
    "\n",
    "        Parameters\n",
    "        ----------\n",
    "        in_column:\n",
    "            name of processed column\n",
    "        default_fc_parameters:\n",
    "            mapping from feature calculator names to parameters\n",
    "        n_jobs:\n",
    "            the number of processes to use for parallelization. If zero, no parallelization is used.\n",
    "        tsfresh_kwargs:\n",
    "            other arguments of extract_features method\n",
    "        \"\"\"\n",
    "        super().__init__(required_features=[in_column])\n",
    "        self.in_column = in_column\n",
    "        self.default_fc_parameters = default_fc_parameters\n",
    "        self.n_jobs = n_jobs\n",
    "        self.tsfresh_kwargs = tsfresh_kwargs\n",
    "\n",
    "        self.output_columns: Optional[list[str]] = None\n",
    "        self.in_column_regressor: Optional[bool] = None\n",
    "\n",
    "    def fit(self, ts: TSDataset) -> \"TSFreshFeatrureExtractionTransform\":\n",
    "        \"\"\"Fit the transform.\"\"\"\n",
    "        # В зависимости от того, является ли входная колонка регрессором, будем определять будут ли регрессорами выходные\n",
    "        self.in_column_regressor = self.in_column in ts.regressors\n",
    "        super().fit(ts)\n",
    "        return self\n",
    "\n",
    "    def _fit(self, df: pd.DataFrame) -> \"TSFreshFeatrureExtractionTransform\":\n",
    "        \"\"\"\n",
    "        Calculate the indices that need to be changed.\n",
    "\n",
    "        Returns\n",
    "        -------\n",
    "        self\n",
    "        \"\"\"\n",
    "        df = TSDataset.to_flatten(df)  # Dataframe с колонками (timestamp, segment, self.in_column)\n",
    "\n",
    "        # В этом месте хотим понять какие у нас будут выходные колонки\n",
    "        # Для этого проделаем такую же процедуру как в методе _transform, только на маленьком подмножестве точек датасета\n",
    "        # Лучше взять 1 сегмент и его последние 10 точек\n",
    "\n",
    "        df_featured = ...  # <your code here>\n",
    "\n",
    "        self.output_columns = df_featured.columns\n",
    "        return self\n",
    "\n",
    "    def _transform(self, df: pd.DataFrame) -> pd.DataFrame:\n",
    "        \"\"\"\n",
    "        Extract tsfresh features\n",
    "\n",
    "        Parameters\n",
    "        ----------\n",
    "        df:\n",
    "            DataFrame to transform\n",
    "\n",
    "        Returns\n",
    "        -------\n",
    "        transformed series\n",
    "        \"\"\"\n",
    "\n",
    "        df = TSDataset.to_flatten(df)  # Dataframe с колонками (timestamp, segment, self.in_column)\n",
    "\n",
    "        # Предлагается выделить фичи для каждого сегмента с помощью extract_features\n",
    "        # Для каждого сегмента должны получить общее признаковое представление и продублировать его во все точки временного ряда\n",
    "\n",
    "        # Важно: в in_column могут присутствовать просуски в начале ряда например из-за того что ряды в датасете разной длинны\n",
    "        # Перед подсчетом фичей необходимо избавиться от этих пропусков иначе все упадет\n",
    "\n",
    "        df_featured = (\n",
    "            ...\n",
    "        )  # <your code here> -- на выходе Dataframe с колонками (timestamp, segment, self.in_column, feature_1, ...)\n",
    "\n",
    "        df_featured = TSDataset.to_dataset(df_featured)  # перевод в wide формат\n",
    "\n",
    "        return df_featured\n",
    "\n",
    "    def get_regressors_info(self) -> List[str]:\n",
    "        \"\"\"Return the list with regressors created by the transform.\n",
    "\n",
    "        Returns\n",
    "        -------\n",
    "        :\n",
    "            List with regressors created by the transform.\n",
    "        \"\"\"\n",
    "        if self.in_column_regressor:\n",
    "            return self.output_columns\n",
    "        return []"
   ]
  },
  {
   "cell_type": "markdown",
   "id": "208cfa84-d669-4e84-afc9-c0e5e60a5cbe",
   "metadata": {},
   "source": [
    "### Протестируем реализацию на 2 сегментах"
   ]
  },
  {
   "cell_type": "code",
   "execution_count": null,
   "id": "2edbccf2-1f3d-4e5b-aeaf-95bbd85dfba8",
   "metadata": {},
   "outputs": [],
   "source": [
    "df = pd.read_parquet(\"data/train.parquet\", columns=[\"segment\", \"timestamp\", \"target\"])\n",
    "df = df[df[\"segment\"].isin(ts.segments[:2])]\n",
    "ts = TSDataset(df=df, freq=\"D\")\n",
    "ts.head()"
   ]
  },
  {
   "cell_type": "code",
   "execution_count": null,
   "id": "a8c70b68-9fb5-4f2f-b3b3-6748c6bde63e",
   "metadata": {},
   "outputs": [],
   "source": [
    "tsfresh_transform = TSFreshSegmentEncoder(in_column=\"target\", default_fc_parameters=MinimalFCParameters(), n_jobs=1)\n",
    "ts.fit_transform([tsfresh_transform])\n",
    "ts.tail()"
   ]
  },
  {
   "cell_type": "markdown",
   "id": "78547378-a5fa-4f16-9d28-98fa64f3a022",
   "metadata": {},
   "source": [
    "## 4. Эксперимент(2): Смоделируем сезонность + добавим признаки сегмента\n",
    "\n",
    "Теперь помимо сезонных признаков добавим в пайплайн признаковое описание сегмента\n",
    "\n",
    "Важный момент, что для подсчета признаков мы можем использовать только данные начиная с T-Horizon так как для будущего неизвестны последие Horizon точек ряда. Для этого проделаем следующий трюк\n",
    "1. Посчитаем признаки от Lag(Horizon)\n",
    "2. Дропнем Lag(Horizon) -- хотя это в целом тоже разумный признак"
   ]
  },
  {
   "cell_type": "code",
   "execution_count": null,
   "id": "1b711a74-ca6a-48e0-8026-de79552a3de2",
   "metadata": {},
   "outputs": [],
   "source": [
    "from etna.transforms import LagTransform, FilterFeaturesTransform"
   ]
  },
  {
   "cell_type": "code",
   "execution_count": null,
   "id": "888e0efb-5d3f-48a7-863a-e3b7af1bc529",
   "metadata": {},
   "outputs": [],
   "source": [
    "df = pd.read_parquet(\"data/train.parquet\", columns=[\"segment\", \"timestamp\", \"target\"])\n",
    "ts = TSDataset(df=df, freq=\"D\")"
   ]
  },
  {
   "cell_type": "code",
   "execution_count": null,
   "id": "b73e0aa2-fd48-4149-9af2-0f72d00551aa",
   "metadata": {},
   "outputs": [],
   "source": [
    "pipeline = Pipeline(\n",
    "    ...  # <your code here>\n",
    ")"
   ]
  },
  {
   "cell_type": "markdown",
   "id": "d2b0e192-ccbc-4039-9081-5fc13625cf41",
   "metadata": {},
   "source": [
    "### Запускаем кросс-валидацию\n",
    "Запустим кросс-валидацию на 1 фолде и оценим метрику соревнования SMAPE"
   ]
  },
  {
   "cell_type": "code",
   "execution_count": null,
   "id": "a6c32620-f749-403b-ada5-487f92970e67",
   "metadata": {},
   "outputs": [],
   "source": [
    "# <your code here>"
   ]
  },
  {
   "cell_type": "markdown",
   "id": "6573e060-4a8e-4e71-be42-1737f2628c53",
   "metadata": {},
   "source": [
    "### Нарисуем картинку\n",
    "\n",
    "Получилось сильно лучше, однако результат естественно не идеален"
   ]
  },
  {
   "cell_type": "code",
   "execution_count": null,
   "id": "279bf73b-2dba-4f64-8703-64b0da368869",
   "metadata": {},
   "outputs": [],
   "source": [
    "# <your code here>"
   ]
  },
  {
   "cell_type": "code",
   "execution_count": null,
   "id": "09a2caf6-5342-41ad-b568-8370d93f5b1d",
   "metadata": {},
   "outputs": [],
   "source": []
  }
 ],
 "metadata": {
  "kernelspec": {
   "display_name": "time-series-in-action",
   "language": "python",
   "name": "time-series-in-action"
  },
  "language_info": {
   "codemirror_mode": {
    "name": "ipython",
    "version": 3
   },
   "file_extension": ".py",
   "mimetype": "text/x-python",
   "name": "python",
   "nbconvert_exporter": "python",
   "pygments_lexer": "ipython3",
   "version": "3.11.11"
  }
 },
 "nbformat": 4,
 "nbformat_minor": 5
}
