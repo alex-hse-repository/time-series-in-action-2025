{
 "cells": [
  {
   "cell_type": "markdown",
   "id": "3d0bdb32-6380-474c-b33f-1681f7546252",
   "metadata": {},
   "source": [
    "# Part(1): Классические модели"
   ]
  },
  {
   "cell_type": "markdown",
   "id": "b780d270-2bf7-4c7c-836d-bbf4f261db17",
   "metadata": {},
   "source": [
    "## 1. ETS: Разложение прогноза на компоненты\n",
    "\n",
    "На семинаре мы получили разложение на компоненты на train части. \n",
    "\n",
    "Теперь необходимо получить такое разложение для прогноза\n",
    "\n",
    "$\\hat{y}_{t+h} =  l_t + hb_t + s_{t+h-m}$\n",
    "\n",
    "$l_t = l_{t-1} + b_{t-1}$ \n",
    "\n",
    "$b_t = b_{t-1}$\n",
    "\n",
    "$s_t = s_{t-m}$"
   ]
  },
  {
   "cell_type": "markdown",
   "id": "e51f5a4d-d556-4803-ae2e-5bf5ce1091d3",
   "metadata": {},
   "source": [
    "#### Обучим модель"
   ]
  },
  {
   "cell_type": "code",
   "execution_count": null,
   "id": "0e005e61-9ffc-4838-95e5-0cc78ec87f19",
   "metadata": {},
   "outputs": [],
   "source": [
    "from statsmodels.tsa.holtwinters import ExponentialSmoothing\n",
    "from statsforecast.utils import AirPassengersDF\n",
    "\n",
    "HORIZON = 12\n",
    "\n",
    "df = AirPassengersDF.copy()\n",
    "data = df[\"y\"].values\n",
    "\n",
    "model = ExponentialSmoothing(data, seasonal_periods=12, trend=\"add\", seasonal=\"add\", initialization_method=\"estimated\")\n",
    "result = model.fit()"
   ]
  },
  {
   "cell_type": "markdown",
   "id": "76eebbb9-5409-4896-b4c7-f3275269ac34",
   "metadata": {},
   "source": [
    "#### Вынем нужные компоненты"
   ]
  },
  {
   "cell_type": "code",
   "execution_count": null,
   "id": "635b71a9-d6ed-4f60-be31-1609f5564281",
   "metadata": {},
   "outputs": [],
   "source": [
    "level_forecast = ...  # <Your code here>\n",
    "slope_forecast = ...  # <Your code here>\n",
    "seasonal_forecast = ...  # <Your code here>"
   ]
  },
  {
   "cell_type": "markdown",
   "id": "dde5a8b8-3b20-4ecd-a0b4-2bfcf6eba831",
   "metadata": {},
   "source": [
    "#### Проверим результат"
   ]
  },
  {
   "cell_type": "code",
   "execution_count": null,
   "id": "fed5e28d-4308-435a-b2a9-2015026c3abc",
   "metadata": {},
   "outputs": [],
   "source": [
    "forecast = result.forecast(HORIZON)\n",
    "assert np.all(forecast == level_forecast + slope_forecast + seasonal_forecast)"
   ]
  },
  {
   "cell_type": "markdown",
   "id": "669b64f2-be8b-4f10-8512-9755e1a7b76f",
   "metadata": {},
   "source": [
    "## 2. Кроссвалидация в Prophet\n",
    "\n",
    "На семинаре мы научились валидировать модели из Statsforecast, а что насчет модели Prophet?\n",
    "\n",
    "Настройте пайплайн валидации и для него!"
   ]
  },
  {
   "cell_type": "markdown",
   "id": "e7429d21-6853-4a0f-a39e-9c969674a20c",
   "metadata": {},
   "source": [
    "#### Загрузка данных"
   ]
  },
  {
   "cell_type": "code",
   "execution_count": null,
   "id": "cc6fe1fd-4fc9-404f-99e8-e415635fc05f",
   "metadata": {},
   "outputs": [],
   "source": [
    "from datasetsforecast.m4 import M4\n",
    "from statsforecast import StatsForecast\n",
    "import pandas as pd\n",
    "import numpy as np\n",
    "\n",
    "np.random.seed(42)\n",
    "\n",
    "\n",
    "HORIZON = 24 * 7\n",
    "N_SEGMENTS = 10\n",
    "\n",
    "df, *_ = M4.load(directory=\"data\", group=\"Hourly\")\n",
    "\n",
    "sample_seg = np.random.choice(\n",
    "    df[\"unique_id\"].unique(),\n",
    "    size=N_SEGMENTS,\n",
    "    replace=False,\n",
    ")\n",
    "df_sample = df[df[\"unique_id\"].isin(sample_seg)]\n",
    "\n",
    "for seg in df_sample[\"unique_id\"].unique():\n",
    "    timestamp = pd.date_range(\n",
    "        end=\"2025-01-01\", freq=\"h\", periods=df_sample[df_sample[\"unique_id\"] == seg][\"ds\"].max() + 1\n",
    "    )\n",
    "    timestamp_mapping = {i + 1: time for i, time in enumerate(timestamp)}\n",
    "    df_sample.loc[df_sample[\"unique_id\"] == seg, \"ds\"] = df_sample[\"ds\"].map(timestamp_mapping)\n",
    "\n",
    "StatsForecast.plot(df_sample)"
   ]
  },
  {
   "cell_type": "markdown",
   "id": "1435f94c-2949-47e5-9bf8-2f241e6d7672",
   "metadata": {},
   "source": [
    "#### Кросс-валидация(1): получение исторических прогнозов\n",
    "\n",
    "Для каждого ряда получите исторические прогнозы"
   ]
  },
  {
   "cell_type": "code",
   "execution_count": null,
   "id": "437913a0-fa06-44ac-a219-276ca4aa5726",
   "metadata": {},
   "outputs": [],
   "source": [
    "from prophet import Prophet\n",
    "from prophet.diagnostics import cross_validation\n",
    "\n",
    "cutoffs = [\n",
    "    pd.Timestamp(\"2025-01-01\") - pd.Timedelta(15, unit=\"D\"),\n",
    "    pd.Timestamp(\"2025-01-01\") - pd.Timedelta(8, unit=\"D\"),\n",
    "]\n",
    "\n",
    "historical_forecasts = {}\n",
    "\n",
    "# <Your code here>"
   ]
  },
  {
   "cell_type": "markdown",
   "id": "7f44105c-c1af-492c-b98c-41c1e643278a",
   "metadata": {},
   "source": [
    "#### Кросс-валидация(2): рассчет метрик\n",
    "\n",
    "Для каждого ряда посчитайте среднюю метрику качества(обратите внимание на параметр `rolling_window`)\n"
   ]
  },
  {
   "cell_type": "code",
   "execution_count": null,
   "id": "e109cf3c-2638-41d7-927f-3195de7855b7",
   "metadata": {},
   "outputs": [],
   "source": [
    "from prophet.diagnostics import performance_metrics\n",
    "\n",
    "metrics = []\n",
    "\n",
    "# <Your code here>\n",
    "\n",
    "metrics = pd.concat(metrics)\n",
    "metrics"
   ]
  },
  {
   "cell_type": "markdown",
   "id": "489351a7-dbca-4c1c-952b-786a00b5a2c8",
   "metadata": {},
   "source": [
    "#### Кросс-валидация(3): визуализация\n",
    "\n",
    "Визуализируйте \"реальные данные\" VS \"исторические предсказания\" для ряда с самым плохим mape"
   ]
  },
  {
   "cell_type": "code",
   "execution_count": null,
   "id": "c06aabe4-e872-47ab-a120-62068ee1f0be",
   "metadata": {},
   "outputs": [],
   "source": [
    "import matplotlib.pyplot as plt\n",
    "\n",
    "plt.figure(figsize=(12, 6))\n",
    "\n",
    "BAD_SEGMENT = \"???\"\n",
    "\n",
    "df_segment = df_sample[df_sample[\"unique_id\"] == \"H162\"]\n",
    "df_cv_segment = historical_forecasts[BAD_SEGMENT]\n",
    "\n",
    "# <Your code here>"
   ]
  },
  {
   "cell_type": "code",
   "execution_count": null,
   "id": "690307a4-d3e2-46eb-83c4-7c0872334704",
   "metadata": {},
   "outputs": [],
   "source": []
  }
 ],
 "metadata": {
  "kernelspec": {
   "display_name": "autogluon",
   "language": "python",
   "name": "autogluon"
  },
  "language_info": {
   "codemirror_mode": {
    "name": "ipython",
    "version": 3
   },
   "file_extension": ".py",
   "mimetype": "text/x-python",
   "name": "python",
   "nbconvert_exporter": "python",
   "pygments_lexer": "ipython3",
   "version": "3.11.11"
  }
 },
 "nbformat": 4,
 "nbformat_minor": 5
}
